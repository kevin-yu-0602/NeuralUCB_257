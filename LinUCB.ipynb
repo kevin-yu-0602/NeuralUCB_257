{
 "cells": [
  {
   "cell_type": "code",
   "execution_count": 1,
   "metadata": {},
   "outputs": [
    {
     "data": {
      "text/html": [
       "<style>.container { width:95% !important; } </style>"
      ],
      "text/plain": [
       "<IPython.core.display.HTML object>"
      ]
     },
     "metadata": {},
     "output_type": "display_data"
    }
   ],
   "source": [
    "from IPython.core.display import HTML\n",
    "display(HTML('<style>.container { width:95% !important; } </style>'))\n",
    "\n",
    "%load_ext autoreload\n",
    "%autoreload 2"
   ]
  },
  {
   "cell_type": "code",
   "execution_count": 21,
   "metadata": {},
   "outputs": [],
   "source": [
    "import numpy as np\n",
    "import matplotlib.pyplot as plt\n",
    "import seaborn as sns\n",
    "from timeit import default_timer as timer\n",
    "from statistics import mean, pstdev\n",
    "from neural_exploration import *\n",
    "sns.set()"
   ]
  },
  {
   "cell_type": "markdown",
   "metadata": {},
   "source": [
    "### Bandit settings"
   ]
  },
  {
   "cell_type": "code",
   "execution_count": 3,
   "metadata": {},
   "outputs": [],
   "source": [
    "T = int(5e2)\n",
    "n_arms = 4\n",
    "n_features = 16\n",
    "noise_std = 0.1\n",
    "\n",
    "confidence_scaling_factor = noise_std\n",
    "\n",
    "n_sim = 100\n",
    "\n",
    "SEED = 42\n",
    "np.random.seed(SEED)"
   ]
  },
  {
   "cell_type": "markdown",
   "metadata": {},
   "source": [
    "### LinUCB on linear rewards"
   ]
  },
  {
   "cell_type": "code",
   "execution_count": 4,
   "metadata": {},
   "outputs": [],
   "source": [
    "### mean reward function\n",
    "a = np.random.randn(n_features)\n",
    "a /= np.linalg.norm(a, ord=2)\n",
    "h = lambda x: 10*np.dot(a, x)"
   ]
  },
  {
   "cell_type": "code",
   "execution_count": 5,
   "metadata": {},
   "outputs": [
    {
     "name": "stderr",
     "output_type": "stream",
     "text": [
      "100%|██████████| 500/500 [00:00<00:00, 2643.18it/s, total regret=86.1, % optimal arm=82.54%]\n",
      "100%|██████████| 500/500 [00:00<00:00, 2635.36it/s, total regret=104, % optimal arm=81.55%] \n",
      "100%|██████████| 500/500 [00:00<00:00, 2694.68it/s, total regret=100, % optimal arm=81.55%] \n",
      "100%|██████████| 500/500 [00:00<00:00, 2706.29it/s, total regret=107, % optimal arm=82.79%] \n",
      "100%|██████████| 500/500 [00:00<00:00, 2722.10it/s, total regret=115, % optimal arm=83.29%] \n",
      "100%|██████████| 500/500 [00:00<00:00, 2710.51it/s, total regret=104, % optimal arm=82.79%] \n",
      "100%|██████████| 500/500 [00:00<00:00, 2726.91it/s, total regret=98.1, % optimal arm=82.04%]\n",
      "100%|██████████| 500/500 [00:00<00:00, 2727.98it/s, total regret=92.1, % optimal arm=83.29%]\n",
      "100%|██████████| 500/500 [00:00<00:00, 2687.59it/s, total regret=106, % optimal arm=84.54%] \n",
      "100%|██████████| 500/500 [00:00<00:00, 2689.54it/s, total regret=91.1, % optimal arm=83.04%]\n",
      "100%|██████████| 500/500 [00:00<00:00, 2699.17it/s, total regret=109, % optimal arm=83.04%] \n",
      "100%|██████████| 500/500 [00:00<00:00, 2730.88it/s, total regret=91.6, % optimal arm=83.54%]\n",
      "100%|██████████| 500/500 [00:00<00:00, 2691.08it/s, total regret=99.2, % optimal arm=81.30%]\n",
      "100%|██████████| 500/500 [00:00<00:00, 2692.63it/s, total regret=89.2, % optimal arm=82.04%]\n",
      "100%|██████████| 500/500 [00:00<00:00, 2757.64it/s, total regret=92.7, % optimal arm=82.29%]\n",
      "100%|██████████| 500/500 [00:00<00:00, 2759.31it/s, total regret=78.4, % optimal arm=84.54%]\n",
      "100%|██████████| 500/500 [00:00<00:00, 2834.39it/s, total regret=75.6, % optimal arm=85.04%]\n",
      "100%|██████████| 500/500 [00:00<00:00, 2825.27it/s, total regret=108, % optimal arm=82.54%] \n",
      "100%|██████████| 500/500 [00:00<00:00, 2827.55it/s, total regret=115, % optimal arm=80.30%] \n",
      "100%|██████████| 500/500 [00:00<00:00, 2813.13it/s, total regret=98, % optimal arm=82.29%]  \n",
      "100%|██████████| 500/500 [00:00<00:00, 2832.02it/s, total regret=108, % optimal arm=81.80%] \n",
      "100%|██████████| 500/500 [00:00<00:00, 2811.63it/s, total regret=110, % optimal arm=82.29%] \n",
      "100%|██████████| 500/500 [00:00<00:00, 2758.69it/s, total regret=88.6, % optimal arm=83.29%]\n",
      "100%|██████████| 500/500 [00:00<00:00, 2809.55it/s, total regret=99.2, % optimal arm=82.04%]\n",
      "100%|██████████| 500/500 [00:00<00:00, 2795.99it/s, total regret=98.2, % optimal arm=83.04%]\n",
      "100%|██████████| 500/500 [00:00<00:00, 2763.52it/s, total regret=107, % optimal arm=83.04%] \n",
      "100%|██████████| 500/500 [00:00<00:00, 2774.17it/s, total regret=99.1, % optimal arm=83.54%]\n",
      "100%|██████████| 500/500 [00:00<00:00, 2788.70it/s, total regret=91.9, % optimal arm=82.04%]\n",
      "100%|██████████| 500/500 [00:00<00:00, 2718.19it/s, total regret=95.3, % optimal arm=82.04%]\n",
      "100%|██████████| 500/500 [00:00<00:00, 2749.36it/s, total regret=90.8, % optimal arm=82.79%]\n",
      "100%|██████████| 500/500 [00:00<00:00, 2759.55it/s, total regret=98.4, % optimal arm=82.54%]\n",
      "100%|██████████| 500/500 [00:00<00:00, 2803.49it/s, total regret=96.9, % optimal arm=82.54%]\n",
      "100%|██████████| 500/500 [00:00<00:00, 2775.44it/s, total regret=88.2, % optimal arm=82.04%]\n",
      "100%|██████████| 500/500 [00:00<00:00, 2812.01it/s, total regret=99.1, % optimal arm=81.30%]\n",
      "100%|██████████| 500/500 [00:00<00:00, 2803.92it/s, total regret=104, % optimal arm=83.04%] \n",
      "100%|██████████| 500/500 [00:00<00:00, 2831.07it/s, total regret=105, % optimal arm=80.80%] \n",
      "100%|██████████| 500/500 [00:00<00:00, 2824.57it/s, total regret=108, % optimal arm=81.05%] \n",
      "100%|██████████| 500/500 [00:00<00:00, 2829.37it/s, total regret=88, % optimal arm=83.04%]  \n",
      "100%|██████████| 500/500 [00:00<00:00, 2838.09it/s, total regret=106, % optimal arm=82.54%] \n",
      "100%|██████████| 500/500 [00:00<00:00, 2842.46it/s, total regret=87, % optimal arm=82.04%]  \n",
      "100%|██████████| 500/500 [00:00<00:00, 2789.50it/s, total regret=102, % optimal arm=81.55%] \n",
      "100%|██████████| 500/500 [00:00<00:00, 2807.98it/s, total regret=98.2, % optimal arm=84.29%]\n",
      "100%|██████████| 500/500 [00:00<00:00, 2772.78it/s, total regret=88.9, % optimal arm=84.04%]\n",
      "100%|██████████| 500/500 [00:00<00:00, 2795.05it/s, total regret=104, % optimal arm=82.54%] \n",
      "100%|██████████| 500/500 [00:00<00:00, 2818.66it/s, total regret=97.8, % optimal arm=85.04%]\n",
      "100%|██████████| 500/500 [00:00<00:00, 2822.91it/s, total regret=105, % optimal arm=83.04%] \n",
      "100%|██████████| 500/500 [00:00<00:00, 2818.60it/s, total regret=113, % optimal arm=81.55%] \n",
      "100%|██████████| 500/500 [00:00<00:00, 2816.90it/s, total regret=96, % optimal arm=81.55%]  \n",
      "100%|██████████| 500/500 [00:00<00:00, 2820.33it/s, total regret=97.4, % optimal arm=81.55%]\n",
      "100%|██████████| 500/500 [00:00<00:00, 2826.53it/s, total regret=88.8, % optimal arm=82.29%]\n",
      "100%|██████████| 500/500 [00:00<00:00, 2816.45it/s, total regret=105, % optimal arm=83.79%] \n",
      "100%|██████████| 500/500 [00:00<00:00, 2802.18it/s, total regret=89.1, % optimal arm=82.29%]\n",
      "100%|██████████| 500/500 [00:00<00:00, 2819.95it/s, total regret=91, % optimal arm=82.79%]  \n",
      "100%|██████████| 500/500 [00:00<00:00, 2762.31it/s, total regret=86, % optimal arm=83.29%]  \n",
      "100%|██████████| 500/500 [00:00<00:00, 2800.77it/s, total regret=107, % optimal arm=84.04%] \n",
      "100%|██████████| 500/500 [00:00<00:00, 2804.76it/s, total regret=91.9, % optimal arm=81.55%]\n",
      "100%|██████████| 500/500 [00:00<00:00, 2804.44it/s, total regret=89.6, % optimal arm=81.05%]\n",
      "100%|██████████| 500/500 [00:00<00:00, 2772.94it/s, total regret=97.8, % optimal arm=84.79%]\n",
      "100%|██████████| 500/500 [00:00<00:00, 2820.12it/s, total regret=85.5, % optimal arm=84.29%]\n",
      "100%|██████████| 500/500 [00:00<00:00, 2786.32it/s, total regret=96.2, % optimal arm=81.80%]\n",
      "100%|██████████| 500/500 [00:00<00:00, 2808.94it/s, total regret=86.6, % optimal arm=83.79%]\n",
      "100%|██████████| 500/500 [00:00<00:00, 2819.22it/s, total regret=119, % optimal arm=82.04%]\n",
      "100%|██████████| 500/500 [00:00<00:00, 2811.66it/s, total regret=109, % optimal arm=82.79%] \n",
      "100%|██████████| 500/500 [00:00<00:00, 2761.42it/s, total regret=106, % optimal arm=82.54%] \n",
      "100%|██████████| 500/500 [00:00<00:00, 2751.42it/s, total regret=93.2, % optimal arm=82.79%]\n",
      "100%|██████████| 500/500 [00:00<00:00, 2752.21it/s, total regret=110, % optimal arm=83.04%] \n",
      "100%|██████████| 500/500 [00:00<00:00, 2821.79it/s, total regret=103, % optimal arm=83.29%] \n",
      "100%|██████████| 500/500 [00:00<00:00, 2832.87it/s, total regret=106, % optimal arm=82.29%] \n",
      "100%|██████████| 500/500 [00:00<00:00, 2795.06it/s, total regret=93.9, % optimal arm=82.79%]\n",
      "100%|██████████| 500/500 [00:00<00:00, 2787.48it/s, total regret=106, % optimal arm=82.54%]\n",
      "100%|██████████| 500/500 [00:00<00:00, 2777.31it/s, total regret=106, % optimal arm=83.04%]\n",
      "100%|██████████| 500/500 [00:00<00:00, 2806.91it/s, total regret=91.1, % optimal arm=83.29%]\n",
      "100%|██████████| 500/500 [00:00<00:00, 2788.07it/s, total regret=89.1, % optimal arm=82.79%]\n",
      "100%|██████████| 500/500 [00:00<00:00, 2783.16it/s, total regret=98.7, % optimal arm=84.29%]\n",
      "100%|██████████| 500/500 [00:00<00:00, 2708.27it/s, total regret=109, % optimal arm=83.29%] \n",
      "100%|██████████| 500/500 [00:00<00:00, 2784.55it/s, total regret=90.7, % optimal arm=84.79%]\n",
      "100%|██████████| 500/500 [00:00<00:00, 2800.87it/s, total regret=95.6, % optimal arm=82.29%]\n",
      "100%|██████████| 500/500 [00:00<00:00, 2736.14it/s, total regret=99.3, % optimal arm=83.29%]\n",
      "100%|██████████| 500/500 [00:00<00:00, 2731.41it/s, total regret=106, % optimal arm=81.30%] \n",
      "100%|██████████| 500/500 [00:00<00:00, 2491.96it/s, total regret=99.3, % optimal arm=82.29%]\n",
      "100%|██████████| 500/500 [00:00<00:00, 2711.08it/s, total regret=95.6, % optimal arm=81.80%]\n",
      "100%|██████████| 500/500 [00:00<00:00, 2789.61it/s, total regret=91.6, % optimal arm=83.29%]\n",
      "100%|██████████| 500/500 [00:00<00:00, 2808.87it/s, total regret=89.4, % optimal arm=84.04%]\n",
      "100%|██████████| 500/500 [00:00<00:00, 2801.56it/s, total regret=96.3, % optimal arm=84.29%]\n",
      "100%|██████████| 500/500 [00:00<00:00, 2665.32it/s, total regret=112, % optimal arm=82.04%] \n",
      "100%|██████████| 500/500 [00:00<00:00, 2668.73it/s, total regret=98.3, % optimal arm=82.04%]\n",
      "100%|██████████| 500/500 [00:00<00:00, 2695.91it/s, total regret=97.7, % optimal arm=83.04%]\n",
      "100%|██████████| 500/500 [00:00<00:00, 2674.11it/s, total regret=106, % optimal arm=82.04%] \n",
      "100%|██████████| 500/500 [00:00<00:00, 2679.08it/s, total regret=110, % optimal arm=82.29%] \n",
      "100%|██████████| 500/500 [00:00<00:00, 2629.98it/s, total regret=96.1, % optimal arm=81.80%]\n",
      "100%|██████████| 500/500 [00:00<00:00, 2713.20it/s, total regret=90.3, % optimal arm=82.29%]\n",
      "100%|██████████| 500/500 [00:00<00:00, 2694.08it/s, total regret=93.3, % optimal arm=83.79%]\n",
      "100%|██████████| 500/500 [00:00<00:00, 2689.87it/s, total regret=111, % optimal arm=80.80%] \n",
      "100%|██████████| 500/500 [00:00<00:00, 2716.76it/s, total regret=99, % optimal arm=83.79%]  \n",
      "100%|██████████| 500/500 [00:00<00:00, 2650.16it/s, total regret=106, % optimal arm=83.04%] \n",
      "100%|██████████| 500/500 [00:00<00:00, 2665.41it/s, total regret=101, % optimal arm=81.55%] \n",
      "100%|██████████| 500/500 [00:00<00:00, 2679.58it/s, total regret=112, % optimal arm=81.80%] \n",
      "100%|██████████| 500/500 [00:00<00:00, 2763.54it/s, total regret=109, % optimal arm=82.29%] \n",
      "100%|██████████| 500/500 [00:00<00:00, 2761.27it/s, total regret=90.2, % optimal arm=84.29%]\n",
      "100%|██████████| 500/500 [00:00<00:00, 2759.54it/s, total regret=108, % optimal arm=82.54%] \n"
     ]
    }
   ],
   "source": [
    "bandit = ContextualBandit(T, n_arms, n_features, h, noise_std=noise_std, seed=SEED)\n",
    "\n",
    "regrets = np.empty((n_sim, T))\n",
    "\n",
    "times = []\n",
    "for i in range(n_sim):\n",
    "    bandit.reset_rewards()\n",
    "    model = LinUCB(bandit,\n",
    "                   reg_factor=1.0,\n",
    "                   delta=0.1,\n",
    "                   confidence_scaling_factor=confidence_scaling_factor,\n",
    "                  )\n",
    "    start = timer()\n",
    "    model.run()\n",
    "    end = timer()\n",
    "    times.append(end-start)\n",
    "    regrets[i] = np.cumsum(model.regrets) "
   ]
  },
  {
   "cell_type": "code",
   "execution_count": 22,
   "metadata": {},
   "outputs": [
    {
     "name": "stdout",
     "output_type": "stream",
     "text": [
      "0.0042569985926633365\n"
     ]
    }
   ],
   "source": [
    "mean(times)\n",
    "print(pstdev(times))"
   ]
  },
  {
   "cell_type": "markdown",
   "metadata": {},
   "source": [
    "### Sublinear regret growth : the bandit problem is solved efficiently"
   ]
  },
  {
   "cell_type": "code",
   "execution_count": 7,
   "metadata": {},
   "outputs": [
    {
     "data": {
      "image/png": "[encoded data removed]",
      "text/plain": [
       "<Figure size 792x288 with 1 Axes>"
      ]
     },
     "metadata": {},
     "output_type": "display_data"
    }
   ],
   "source": [
    "fig, ax = plt.subplots(figsize=(11, 4), nrows=1, ncols=1)\n",
    "\n",
    "t = np.arange(T)\n",
    "\n",
    "mean_regrets = np.mean(regrets, axis=0)\n",
    "std_regrets = np.std(regrets, axis=0) / np.sqrt(regrets.shape[0])\n",
    "ax.plot(mean_regrets)\n",
    "ax.fill_between(t, mean_regrets - 2*std_regrets, mean_regrets + 2*std_regrets, alpha=0.15)\n",
    "ax.set_title('Cumulative regret')\n",
    "\n",
    "plt.tight_layout()\n",
    "plt.show()\n",
    "\n",
    "fig.savefig('figures/linucb_linear.pdf')"
   ]
  },
  {
   "cell_type": "markdown",
   "metadata": {},
   "source": [
    "### LinUCB on nonlinear rewards"
   ]
  },
  {
   "cell_type": "code",
   "execution_count": 8,
   "metadata": {},
   "outputs": [],
   "source": [
    "### mean reward function\n",
    "a = np.random.randn(n_features)\n",
    "a /= np.linalg.norm(a, ord=2)\n",
    "h = lambda x: 100*np.dot(a, x)**2"
   ]
  },
  {
   "cell_type": "code",
   "execution_count": 9,
   "metadata": {},
   "outputs": [
    {
     "name": "stderr",
     "output_type": "stream",
     "text": [
      "100%|██████████| 500/500 [00:00<00:00, 2650.35it/s, total regret=2.73e+3, % optimal arm=40.15%]\n",
      "100%|██████████| 500/500 [00:00<00:00, 2656.60it/s, total regret=2.86e+3, % optimal arm=34.66%]\n",
      "100%|██████████| 500/500 [00:00<00:00, 2641.71it/s, total regret=2.9e+3, % optimal arm=33.67%] \n",
      "100%|██████████| 500/500 [00:00<00:00, 2637.86it/s, total regret=2.76e+3, % optimal arm=38.40%]\n",
      "100%|██████████| 500/500 [00:00<00:00, 2657.79it/s, total regret=2.82e+3, % optimal arm=35.16%]\n",
      "100%|██████████| 500/500 [00:00<00:00, 2634.48it/s, total regret=2.73e+3, % optimal arm=38.40%]\n",
      "100%|██████████| 500/500 [00:00<00:00, 1995.04it/s, total regret=2.87e+3, % optimal arm=34.16%]\n",
      "100%|██████████| 500/500 [00:00<00:00, 2057.79it/s, total regret=2.84e+3, % optimal arm=35.16%]\n",
      "100%|██████████| 500/500 [00:00<00:00, 2284.57it/s, total regret=2.75e+3, % optimal arm=37.91%]\n",
      "100%|██████████| 500/500 [00:00<00:00, 2644.77it/s, total regret=2.74e+3, % optimal arm=40.90%]\n",
      "100%|██████████| 500/500 [00:00<00:00, 2674.59it/s, total regret=2.81e+3, % optimal arm=37.16%]\n",
      "100%|██████████| 500/500 [00:00<00:00, 2672.80it/s, total regret=2.86e+3, % optimal arm=34.41%]\n",
      "100%|██████████| 500/500 [00:00<00:00, 2664.78it/s, total regret=2.76e+3, % optimal arm=41.15%]\n",
      "100%|██████████| 500/500 [00:00<00:00, 2632.86it/s, total regret=2.73e+3, % optimal arm=40.90%]\n",
      "100%|██████████| 500/500 [00:00<00:00, 2653.12it/s, total regret=2.73e+3, % optimal arm=40.40%]\n",
      "100%|██████████| 500/500 [00:00<00:00, 2592.86it/s, total regret=2.89e+3, % optimal arm=35.41%]\n",
      "100%|██████████| 500/500 [00:00<00:00, 2604.33it/s, total regret=2.73e+3, % optimal arm=40.15%]\n",
      "100%|██████████| 500/500 [00:00<00:00, 2601.78it/s, total regret=2.77e+3, % optimal arm=37.91%]\n",
      "100%|██████████| 500/500 [00:00<00:00, 2549.66it/s, total regret=2.73e+3, % optimal arm=38.15%]\n",
      "100%|██████████| 500/500 [00:00<00:00, 2409.71it/s, total regret=2.89e+3, % optimal arm=35.66%]\n",
      "100%|██████████| 500/500 [00:00<00:00, 2523.39it/s, total regret=2.86e+3, % optimal arm=34.16%]\n",
      "100%|██████████| 500/500 [00:00<00:00, 2688.74it/s, total regret=2.72e+3, % optimal arm=38.65%]\n",
      "100%|██████████| 500/500 [00:00<00:00, 2720.55it/s, total regret=2.74e+3, % optimal arm=40.65%]\n",
      "100%|██████████| 500/500 [00:00<00:00, 2439.74it/s, total regret=2.87e+3, % optimal arm=34.66%]\n",
      "100%|██████████| 500/500 [00:00<00:00, 2713.39it/s, total regret=2.86e+3, % optimal arm=34.41%]\n",
      "100%|██████████| 500/500 [00:00<00:00, 2645.00it/s, total regret=2.75e+3, % optimal arm=38.90%]\n",
      "100%|██████████| 500/500 [00:00<00:00, 2370.57it/s, total regret=2.73e+3, % optimal arm=38.65%]\n",
      "100%|██████████| 500/500 [00:00<00:00, 2699.67it/s, total regret=2.84e+3, % optimal arm=35.41%]\n",
      "100%|██████████| 500/500 [00:00<00:00, 2674.74it/s, total regret=2.86e+3, % optimal arm=34.66%]\n",
      "100%|██████████| 500/500 [00:00<00:00, 2672.50it/s, total regret=2.83e+3, % optimal arm=35.41%]\n",
      "100%|██████████| 500/500 [00:00<00:00, 2683.37it/s, total regret=2.9e+3, % optimal arm=33.92%] \n",
      "100%|██████████| 500/500 [00:00<00:00, 2691.27it/s, total regret=2.86e+3, % optimal arm=34.16%]\n",
      "100%|██████████| 500/500 [00:00<00:00, 2665.49it/s, total regret=2.84e+3, % optimal arm=35.66%]\n",
      "100%|██████████| 500/500 [00:00<00:00, 2694.37it/s, total regret=2.87e+3, % optimal arm=34.16%]\n",
      "100%|██████████| 500/500 [00:00<00:00, 2679.95it/s, total regret=2.73e+3, % optimal arm=38.90%]\n",
      "100%|██████████| 500/500 [00:00<00:00, 2688.05it/s, total regret=2.72e+3, % optimal arm=38.65%]\n",
      "100%|██████████| 500/500 [00:00<00:00, 2662.76it/s, total regret=2.73e+3, % optimal arm=40.40%]\n",
      "100%|██████████| 500/500 [00:00<00:00, 2689.71it/s, total regret=2.73e+3, % optimal arm=40.65%]\n",
      "100%|██████████| 500/500 [00:00<00:00, 2727.51it/s, total regret=2.82e+3, % optimal arm=36.91%]\n",
      "100%|██████████| 500/500 [00:00<00:00, 2691.35it/s, total regret=2.84e+3, % optimal arm=35.41%]\n",
      "100%|██████████| 500/500 [00:00<00:00, 2714.45it/s, total regret=2.75e+3, % optimal arm=37.66%]\n",
      "100%|██████████| 500/500 [00:00<00:00, 2717.87it/s, total regret=2.86e+3, % optimal arm=34.66%]\n",
      "100%|██████████| 500/500 [00:00<00:00, 2719.02it/s, total regret=2.76e+3, % optimal arm=41.15%]\n",
      "100%|██████████| 500/500 [00:00<00:00, 2710.23it/s, total regret=2.86e+3, % optimal arm=34.66%]\n",
      "100%|██████████| 500/500 [00:00<00:00, 2712.67it/s, total regret=2.76e+3, % optimal arm=37.66%]\n",
      "100%|██████████| 500/500 [00:00<00:00, 2710.61it/s, total regret=2.77e+3, % optimal arm=37.66%]\n",
      "100%|██████████| 500/500 [00:00<00:00, 2713.61it/s, total regret=2.73e+3, % optimal arm=38.15%]\n",
      "100%|██████████| 500/500 [00:00<00:00, 2693.32it/s, total regret=2.74e+3, % optimal arm=40.90%]\n",
      "100%|██████████| 500/500 [00:00<00:00, 2686.74it/s, total regret=2.87e+3, % optimal arm=34.41%]\n",
      "100%|██████████| 500/500 [00:00<00:00, 2721.53it/s, total regret=2.89e+3, % optimal arm=35.41%]\n",
      "100%|██████████| 500/500 [00:00<00:00, 2720.79it/s, total regret=2.74e+3, % optimal arm=39.15%]\n",
      "100%|██████████| 500/500 [00:00<00:00, 2706.52it/s, total regret=2.74e+3, % optimal arm=39.90%]\n",
      "100%|██████████| 500/500 [00:00<00:00, 2719.66it/s, total regret=2.86e+3, % optimal arm=34.41%]\n",
      "100%|██████████| 500/500 [00:00<00:00, 2717.71it/s, total regret=2.74e+3, % optimal arm=39.65%]\n",
      "100%|██████████| 500/500 [00:00<00:00, 2717.00it/s, total regret=2.75e+3, % optimal arm=37.91%]\n",
      "100%|██████████| 500/500 [00:00<00:00, 2712.40it/s, total regret=2.87e+3, % optimal arm=34.41%]\n",
      "100%|██████████| 500/500 [00:00<00:00, 2693.81it/s, total regret=2.84e+3, % optimal arm=35.41%]\n",
      "100%|██████████| 500/500 [00:00<00:00, 2693.07it/s, total regret=2.75e+3, % optimal arm=36.91%]\n",
      "100%|██████████| 500/500 [00:00<00:00, 2696.59it/s, total regret=2.83e+3, % optimal arm=35.16%]\n",
      "100%|██████████| 500/500 [00:00<00:00, 2690.33it/s, total regret=2.84e+3, % optimal arm=35.41%]\n",
      "100%|██████████| 500/500 [00:00<00:00, 2661.68it/s, total regret=2.72e+3, % optimal arm=38.40%]\n",
      "100%|██████████| 500/500 [00:00<00:00, 2734.43it/s, total regret=2.96e+3, % optimal arm=36.16%]\n",
      "100%|██████████| 500/500 [00:00<00:00, 2730.96it/s, total regret=2.76e+3, % optimal arm=37.91%]\n",
      "100%|██████████| 500/500 [00:00<00:00, 2714.96it/s, total regret=2.74e+3, % optimal arm=37.41%]\n",
      "100%|██████████| 500/500 [00:00<00:00, 2648.27it/s, total regret=2.85e+3, % optimal arm=34.91%]\n",
      "100%|██████████| 500/500 [00:00<00:00, 2706.68it/s, total regret=2.74e+3, % optimal arm=38.15%]\n",
      "100%|██████████| 500/500 [00:00<00:00, 2713.08it/s, total regret=2.74e+3, % optimal arm=37.41%]\n",
      "100%|██████████| 500/500 [00:00<00:00, 2720.37it/s, total regret=2.72e+3, % optimal arm=38.65%]\n",
      "100%|██████████| 500/500 [00:00<00:00, 2721.00it/s, total regret=2.82e+3, % optimal arm=35.66%]\n",
      "100%|██████████| 500/500 [00:00<00:00, 2718.75it/s, total regret=2.76e+3, % optimal arm=38.15%]\n",
      "100%|██████████| 500/500 [00:00<00:00, 2721.33it/s, total regret=2.74e+3, % optimal arm=37.41%]\n",
      "100%|██████████| 500/500 [00:00<00:00, 2726.26it/s, total regret=2.86e+3, % optimal arm=34.41%]\n",
      "100%|██████████| 500/500 [00:00<00:00, 2722.78it/s, total regret=2.86e+3, % optimal arm=33.92%]\n",
      "100%|██████████| 500/500 [00:00<00:00, 2730.09it/s, total regret=2.76e+3, % optimal arm=37.41%]\n",
      "100%|██████████| 500/500 [00:00<00:00, 2701.61it/s, total regret=2.77e+3, % optimal arm=37.41%]\n",
      "100%|██████████| 500/500 [00:00<00:00, 2704.99it/s, total regret=2.88e+3, % optimal arm=35.66%]\n",
      "100%|██████████| 500/500 [00:00<00:00, 2720.43it/s, total regret=2.87e+3, % optimal arm=34.16%]\n",
      "100%|██████████| 500/500 [00:00<00:00, 2717.53it/s, total regret=2.73e+3, % optimal arm=38.65%]\n",
      "100%|██████████| 500/500 [00:00<00:00, 2708.97it/s, total regret=2.75e+3, % optimal arm=38.65%]\n",
      "100%|██████████| 500/500 [00:00<00:00, 2678.48it/s, total regret=2.87e+3, % optimal arm=34.41%]\n",
      "100%|██████████| 500/500 [00:00<00:00, 2727.56it/s, total regret=2.89e+3, % optimal arm=33.67%]\n",
      "100%|██████████| 500/500 [00:00<00:00, 2713.73it/s, total regret=2.88e+3, % optimal arm=35.66%]\n",
      "100%|██████████| 500/500 [00:00<00:00, 2690.20it/s, total regret=2.74e+3, % optimal arm=37.41%]\n",
      "100%|██████████| 500/500 [00:00<00:00, 2694.05it/s, total regret=2.74e+3, % optimal arm=37.66%]\n",
      "100%|██████████| 500/500 [00:00<00:00, 2711.08it/s, total regret=2.75e+3, % optimal arm=37.41%]\n",
      "100%|██████████| 500/500 [00:00<00:00, 2703.88it/s, total regret=2.84e+3, % optimal arm=35.66%]\n",
      "100%|██████████| 500/500 [00:00<00:00, 2652.87it/s, total regret=2.89e+3, % optimal arm=34.16%]\n",
      "100%|██████████| 500/500 [00:00<00:00, 2722.47it/s, total regret=2.75e+3, % optimal arm=37.16%]\n",
      "100%|██████████| 500/500 [00:00<00:00, 2708.42it/s, total regret=2.86e+3, % optimal arm=34.91%]\n",
      "100%|██████████| 500/500 [00:00<00:00, 2654.78it/s, total regret=2.73e+3, % optimal arm=40.90%]\n",
      "100%|██████████| 500/500 [00:00<00:00, 2702.09it/s, total regret=2.82e+3, % optimal arm=35.16%]\n",
      "100%|██████████| 500/500 [00:00<00:00, 2692.00it/s, total regret=2.86e+3, % optimal arm=34.41%]\n",
      "100%|██████████| 500/500 [00:00<00:00, 2691.09it/s, total regret=2.9e+3, % optimal arm=33.92%] \n",
      "100%|██████████| 500/500 [00:00<00:00, 2779.41it/s, total regret=2.78e+3, % optimal arm=36.91%]\n",
      "100%|██████████| 500/500 [00:00<00:00, 2856.73it/s, total regret=2.76e+3, % optimal arm=37.91%]\n",
      "100%|██████████| 500/500 [00:00<00:00, 2878.32it/s, total regret=2.74e+3, % optimal arm=40.65%]\n",
      "100%|██████████| 500/500 [00:00<00:00, 2776.66it/s, total regret=2.86e+3, % optimal arm=34.16%]\n",
      "100%|██████████| 500/500 [00:00<00:00, 2839.29it/s, total regret=2.75e+3, % optimal arm=38.15%]\n",
      "100%|██████████| 500/500 [00:00<00:00, 2788.15it/s, total regret=2.73e+3, % optimal arm=40.15%]\n",
      "100%|██████████| 500/500 [00:00<00:00, 2849.88it/s, total regret=2.64e+3, % optimal arm=40.40%]\n"
     ]
    }
   ],
   "source": [
    "bandit = ContextualBandit(T, n_arms, n_features, h, noise_std=noise_std, seed=SEED)\n",
    "\n",
    "regrets = np.empty((n_sim, T))\n",
    "quadtimes = []\n",
    "for i in range(n_sim):\n",
    "    bandit.reset_rewards()\n",
    "    model = LinUCB(bandit,\n",
    "                   reg_factor=1.0,\n",
    "                   delta=0.1,\n",
    "                   confidence_scaling_factor=confidence_scaling_factor,\n",
    "                  )\n",
    "    start = timer()\n",
    "    model.run()\n",
    "    end = timer()\n",
    "    quadtimes.append(end-start)\n",
    "    regrets[i] = np.cumsum(model.regrets)"
   ]
  },
  {
   "cell_type": "code",
   "execution_count": 24,
   "metadata": {},
   "outputs": [
    {
     "name": "stdout",
     "output_type": "stream",
     "text": [
      "0.010602414498163553\n"
     ]
    }
   ],
   "source": [
    "mean(quadtimes)\n",
    "print(pstdev(quadtimes))"
   ]
  },
  {
   "cell_type": "markdown",
   "metadata": {},
   "source": [
    "### Linear regret growth: suboptimal, but learns something (correct arm is selected 75% of the time)"
   ]
  },
  {
   "cell_type": "code",
   "execution_count": 10,
   "metadata": {},
   "outputs": [
    {
     "data": {
      "image/png": "[encoded data removed]",
      "text/plain": [
       "<Figure size 792x288 with 1 Axes>"
      ]
     },
     "metadata": {},
     "output_type": "display_data"
    }
   ],
   "source": [
    "fig, ax = plt.subplots(figsize=(11, 4), nrows=1, ncols=1)\n",
    "\n",
    "t = np.arange(T)\n",
    "\n",
    "mean_regrets = np.mean(regrets, axis=0)\n",
    "std_regrets = np.std(regrets, axis=0) / np.sqrt(regrets.shape[0])\n",
    "ax.plot(mean_regrets)\n",
    "ax.fill_between(t, mean_regrets - 2*std_regrets, mean_regrets + 2*std_regrets, alpha=0.15)\n",
    "ax.set_title('Cumulative regret')\n",
    "\n",
    "plt.tight_layout()\n",
    "plt.show()\n",
    "\n",
    "fig.savefig('figures/linucb_quad.pdf')"
   ]
  },
  {
   "cell_type": "code",
   "execution_count": 11,
   "metadata": {},
   "outputs": [],
   "source": [
    "### mean reward function\n",
    "a = np.random.randn(n_features)\n",
    "a /= np.linalg.norm(a, ord=2)\n",
    "h = lambda x: np.cos(10*np.pi*np.dot(x, a))"
   ]
  },
  {
   "cell_type": "code",
   "execution_count": 12,
   "metadata": {},
   "outputs": [
    {
     "name": "stderr",
     "output_type": "stream",
     "text": [
      "100%|██████████| 500/500 [00:00<00:00, 2712.56it/s, total regret=269, % optimal arm=27.93%] \n",
      "100%|██████████| 500/500 [00:00<00:00, 2721.77it/s, total regret=270, % optimal arm=26.43%] \n",
      "100%|██████████| 500/500 [00:00<00:00, 2745.27it/s, total regret=270, % optimal arm=23.19%] \n",
      "100%|██████████| 500/500 [00:00<00:00, 2690.16it/s, total regret=293, % optimal arm=22.94%] \n",
      "100%|██████████| 500/500 [00:00<00:00, 2754.14it/s, total regret=271, % optimal arm=26.43%]\n",
      "100%|██████████| 500/500 [00:00<00:00, 2781.94it/s, total regret=284, % optimal arm=25.94%] \n",
      "100%|██████████| 500/500 [00:00<00:00, 2786.43it/s, total regret=282, % optimal arm=25.69%] \n",
      "100%|██████████| 500/500 [00:00<00:00, 2676.76it/s, total regret=259, % optimal arm=26.18%] \n",
      "100%|██████████| 500/500 [00:00<00:00, 2601.75it/s, total regret=275, % optimal arm=27.68%] \n",
      "100%|██████████| 500/500 [00:00<00:00, 2619.68it/s, total regret=283, % optimal arm=26.43%]\n",
      "100%|██████████| 500/500 [00:00<00:00, 2632.99it/s, total regret=281, % optimal arm=24.19%] \n",
      "100%|██████████| 500/500 [00:00<00:00, 2654.68it/s, total regret=296, % optimal arm=24.19%] \n",
      "100%|██████████| 500/500 [00:00<00:00, 2623.89it/s, total regret=272, % optimal arm=28.93%] \n",
      "100%|██████████| 500/500 [00:00<00:00, 2660.28it/s, total regret=281, % optimal arm=25.19%] \n",
      "100%|██████████| 500/500 [00:00<00:00, 2634.29it/s, total regret=278, % optimal arm=28.68%]\n",
      "100%|██████████| 500/500 [00:00<00:00, 2679.02it/s, total regret=276, % optimal arm=27.43%] \n",
      "100%|██████████| 500/500 [00:00<00:00, 2739.38it/s, total regret=265, % optimal arm=29.18%] \n",
      "100%|██████████| 500/500 [00:00<00:00, 2804.67it/s, total regret=268, % optimal arm=27.43%] \n",
      "100%|██████████| 500/500 [00:00<00:00, 2774.03it/s, total regret=282, % optimal arm=22.69%] \n",
      "100%|██████████| 500/500 [00:00<00:00, 2727.89it/s, total regret=277, % optimal arm=27.68%] \n",
      "100%|██████████| 500/500 [00:00<00:00, 2749.64it/s, total regret=268, % optimal arm=24.69%] \n",
      "100%|██████████| 500/500 [00:00<00:00, 2743.89it/s, total regret=285, % optimal arm=24.94%] \n",
      "100%|██████████| 500/500 [00:00<00:00, 2743.77it/s, total regret=277, % optimal arm=25.94%] \n",
      "100%|██████████| 500/500 [00:00<00:00, 2765.15it/s, total regret=283, % optimal arm=24.69%] \n",
      "100%|██████████| 500/500 [00:00<00:00, 2769.41it/s, total regret=275, % optimal arm=24.44%] \n",
      "100%|██████████| 500/500 [00:00<00:00, 2750.89it/s, total regret=267, % optimal arm=26.68%] \n",
      "100%|██████████| 500/500 [00:00<00:00, 2774.95it/s, total regret=283, % optimal arm=24.44%] \n",
      "100%|██████████| 500/500 [00:00<00:00, 2780.69it/s, total regret=288, % optimal arm=24.94%] \n",
      "100%|██████████| 500/500 [00:00<00:00, 2776.31it/s, total regret=301, % optimal arm=20.45%]\n",
      "100%|██████████| 500/500 [00:00<00:00, 2767.25it/s, total regret=277, % optimal arm=27.43%] \n",
      "100%|██████████| 500/500 [00:00<00:00, 2786.08it/s, total regret=290, % optimal arm=24.44%] \n",
      "100%|██████████| 500/500 [00:00<00:00, 2727.64it/s, total regret=275, % optimal arm=24.19%] \n",
      "100%|██████████| 500/500 [00:00<00:00, 2739.97it/s, total regret=282, % optimal arm=25.94%] \n",
      "100%|██████████| 500/500 [00:00<00:00, 2677.78it/s, total regret=264, % optimal arm=24.69%] \n",
      "100%|██████████| 500/500 [00:00<00:00, 2711.16it/s, total regret=290, % optimal arm=23.94%] \n",
      "100%|██████████| 500/500 [00:00<00:00, 2736.73it/s, total regret=292, % optimal arm=24.44%] \n",
      "100%|██████████| 500/500 [00:00<00:00, 2682.51it/s, total regret=271, % optimal arm=27.43%] \n",
      "100%|██████████| 500/500 [00:00<00:00, 2634.27it/s, total regret=276, % optimal arm=26.43%]\n",
      "100%|██████████| 500/500 [00:00<00:00, 2798.73it/s, total regret=282, % optimal arm=25.94%] \n",
      "100%|██████████| 500/500 [00:00<00:00, 2670.26it/s, total regret=289, % optimal arm=27.18%] \n",
      "100%|██████████| 500/500 [00:00<00:00, 2655.14it/s, total regret=279, % optimal arm=25.69%] \n",
      "100%|██████████| 500/500 [00:00<00:00, 2526.03it/s, total regret=283, % optimal arm=22.94%] \n",
      "100%|██████████| 500/500 [00:00<00:00, 2729.87it/s, total regret=268, % optimal arm=27.18%] \n",
      "100%|██████████| 500/500 [00:00<00:00, 2763.96it/s, total regret=289, % optimal arm=23.69%]\n",
      "100%|██████████| 500/500 [00:00<00:00, 2647.05it/s, total regret=260, % optimal arm=27.43%] \n",
      "100%|██████████| 500/500 [00:00<00:00, 2660.51it/s, total regret=261, % optimal arm=28.18%] \n",
      "100%|██████████| 500/500 [00:00<00:00, 2667.85it/s, total regret=282, % optimal arm=22.69%] \n",
      "100%|██████████| 500/500 [00:00<00:00, 2700.02it/s, total regret=277, % optimal arm=25.94%] \n",
      "100%|██████████| 500/500 [00:00<00:00, 2689.17it/s, total regret=282, % optimal arm=23.44%] \n",
      "100%|██████████| 500/500 [00:00<00:00, 2696.41it/s, total regret=291, % optimal arm=23.94%] \n",
      "100%|██████████| 500/500 [00:00<00:00, 2261.49it/s, total regret=288, % optimal arm=23.19%] \n",
      "100%|██████████| 500/500 [00:00<00:00, 2275.14it/s, total regret=267, % optimal arm=28.18%] \n",
      "100%|██████████| 500/500 [00:00<00:00, 2277.15it/s, total regret=267, % optimal arm=27.18%] \n",
      "100%|██████████| 500/500 [00:00<00:00, 2182.30it/s, total regret=274, % optimal arm=26.43%] \n",
      "100%|██████████| 500/500 [00:00<00:00, 2354.49it/s, total regret=277, % optimal arm=23.44%]\n",
      "100%|██████████| 500/500 [00:00<00:00, 2400.47it/s, total regret=296, % optimal arm=24.44%] \n",
      "100%|██████████| 500/500 [00:00<00:00, 2406.13it/s, total regret=283, % optimal arm=25.19%] \n",
      "100%|██████████| 500/500 [00:00<00:00, 2398.28it/s, total regret=255, % optimal arm=29.43%] \n",
      "100%|██████████| 500/500 [00:00<00:00, 2390.75it/s, total regret=265, % optimal arm=24.44%] \n",
      "100%|██████████| 500/500 [00:00<00:00, 2383.22it/s, total regret=281, % optimal arm=28.18%] \n",
      "100%|██████████| 500/500 [00:00<00:00, 2400.77it/s, total regret=273, % optimal arm=24.69%] \n",
      "100%|██████████| 500/500 [00:00<00:00, 2402.98it/s, total regret=269, % optimal arm=26.68%] \n",
      "100%|██████████| 500/500 [00:00<00:00, 2364.99it/s, total regret=287, % optimal arm=25.19%] \n",
      "100%|██████████| 500/500 [00:00<00:00, 2365.08it/s, total regret=270, % optimal arm=26.93%] \n",
      "100%|██████████| 500/500 [00:00<00:00, 2371.42it/s, total regret=285, % optimal arm=26.68%] \n",
      "100%|██████████| 500/500 [00:00<00:00, 2364.75it/s, total regret=294, % optimal arm=23.69%] \n",
      "100%|██████████| 500/500 [00:00<00:00, 2369.70it/s, total regret=291, % optimal arm=23.94%] \n",
      "100%|██████████| 500/500 [00:00<00:00, 2379.31it/s, total regret=279, % optimal arm=23.19%] \n",
      "100%|██████████| 500/500 [00:00<00:00, 2409.50it/s, total regret=281, % optimal arm=26.93%] \n",
      "100%|██████████| 500/500 [00:00<00:00, 2384.53it/s, total regret=280, % optimal arm=24.44%] \n",
      "100%|██████████| 500/500 [00:00<00:00, 2376.76it/s, total regret=270, % optimal arm=29.93%]\n",
      "100%|██████████| 500/500 [00:00<00:00, 2380.11it/s, total regret=270, % optimal arm=24.69%] \n",
      "100%|██████████| 500/500 [00:00<00:00, 2371.20it/s, total regret=274, % optimal arm=25.94%] \n",
      "100%|██████████| 500/500 [00:00<00:00, 2363.73it/s, total regret=281, % optimal arm=24.19%]\n",
      "100%|██████████| 500/500 [00:00<00:00, 2365.61it/s, total regret=277, % optimal arm=24.69%] \n",
      "100%|██████████| 500/500 [00:00<00:00, 2359.69it/s, total regret=286, % optimal arm=26.43%] \n",
      "100%|██████████| 500/500 [00:00<00:00, 2332.33it/s, total regret=264, % optimal arm=27.43%]\n",
      "100%|██████████| 500/500 [00:00<00:00, 2378.60it/s, total regret=270, % optimal arm=26.93%]\n",
      "100%|██████████| 500/500 [00:00<00:00, 2383.54it/s, total regret=272, % optimal arm=24.19%] \n",
      "100%|██████████| 500/500 [00:00<00:00, 2350.86it/s, total regret=281, % optimal arm=23.94%] \n",
      "100%|██████████| 500/500 [00:00<00:00, 2353.56it/s, total regret=266, % optimal arm=25.44%] \n",
      "100%|██████████| 500/500 [00:00<00:00, 2350.64it/s, total regret=280, % optimal arm=26.18%] \n",
      "100%|██████████| 500/500 [00:00<00:00, 2358.36it/s, total regret=281, % optimal arm=25.44%] \n",
      "100%|██████████| 500/500 [00:00<00:00, 2355.27it/s, total regret=284, % optimal arm=23.44%]\n",
      "100%|██████████| 500/500 [00:00<00:00, 2369.73it/s, total regret=276, % optimal arm=22.94%] \n",
      "100%|██████████| 500/500 [00:00<00:00, 2383.68it/s, total regret=293, % optimal arm=24.69%] \n",
      "100%|██████████| 500/500 [00:00<00:00, 2487.44it/s, total regret=268, % optimal arm=23.69%] \n",
      "100%|██████████| 500/500 [00:00<00:00, 2727.72it/s, total regret=269, % optimal arm=26.68%] \n",
      "100%|██████████| 500/500 [00:00<00:00, 2729.21it/s, total regret=299, % optimal arm=19.70%] \n",
      "100%|██████████| 500/500 [00:00<00:00, 2726.78it/s, total regret=283, % optimal arm=26.68%] \n",
      "100%|██████████| 500/500 [00:00<00:00, 2726.35it/s, total regret=281, % optimal arm=25.69%] \n",
      "100%|██████████| 500/500 [00:00<00:00, 2724.88it/s, total regret=282, % optimal arm=24.44%] \n",
      "100%|██████████| 500/500 [00:00<00:00, 2708.83it/s, total regret=274, % optimal arm=24.69%] \n",
      "100%|██████████| 500/500 [00:00<00:00, 2689.36it/s, total regret=278, % optimal arm=23.69%] \n",
      "100%|██████████| 500/500 [00:00<00:00, 2720.56it/s, total regret=275, % optimal arm=25.69%] \n",
      "100%|██████████| 500/500 [00:00<00:00, 2498.74it/s, total regret=285, % optimal arm=24.19%] \n",
      "100%|██████████| 500/500 [00:00<00:00, 2656.25it/s, total regret=270, % optimal arm=24.19%] \n",
      "100%|██████████| 500/500 [00:00<00:00, 2634.85it/s, total regret=287, % optimal arm=23.69%] \n",
      "100%|██████████| 500/500 [00:00<00:00, 2306.16it/s, total regret=274, % optimal arm=27.18%] \n",
      "100%|██████████| 500/500 [00:00<00:00, 2600.74it/s, total regret=269, % optimal arm=27.93%] \n"
     ]
    }
   ],
   "source": [
    "bandit = ContextualBandit(T, n_arms, n_features, h, noise_std=noise_std, seed=SEED)\n",
    "\n",
    "regrets = np.empty((n_sim, T))\n",
    "costimes = []\n",
    "for i in range(n_sim):\n",
    "    bandit.reset_rewards()\n",
    "    model = LinUCB(bandit,\n",
    "                   reg_factor=1.0,\n",
    "                   delta=0.1,\n",
    "                   confidence_scaling_factor=confidence_scaling_factor,\n",
    "                  )\n",
    "    start = timer()\n",
    "    model.run()\n",
    "    end = timer()\n",
    "    costimes.append(end-start)\n",
    "    regrets[i] = np.cumsum(model.regrets)"
   ]
  },
  {
   "cell_type": "code",
   "execution_count": 25,
   "metadata": {},
   "outputs": [
    {
     "name": "stdout",
     "output_type": "stream",
     "text": [
      "0.013834740158343581\n"
     ]
    }
   ],
   "source": [
    "mean(costimes)\n",
    "print(pstdev(costimes))"
   ]
  },
  {
   "cell_type": "markdown",
   "metadata": {},
   "source": [
    "### Linear regret growth: the bandit problem fails"
   ]
  },
  {
   "cell_type": "code",
   "execution_count": 13,
   "metadata": {},
   "outputs": [
    {
     "data": {
      "image/png": "[encoded data removed]",
      "text/plain": [
       "<Figure size 792x288 with 1 Axes>"
      ]
     },
     "metadata": {},
     "output_type": "display_data"
    }
   ],
   "source": [
    "fig, ax = plt.subplots(figsize=(11, 4), nrows=1, ncols=1)\n",
    "\n",
    "t = np.arange(T)\n",
    "\n",
    "mean_regrets = np.mean(regrets, axis=0)\n",
    "std_regrets = np.std(regrets, axis=0) / np.sqrt(regrets.shape[0])\n",
    "ax.plot(mean_regrets)\n",
    "ax.fill_between(t, mean_regrets - 2*std_regrets, mean_regrets + 2*std_regrets, alpha=0.15)\n",
    "ax.set_title('Cumulative regret')\n",
    "\n",
    "plt.tight_layout()\n",
    "plt.show()\n",
    "\n",
    "fig.savefig('figures/linucb_cosine.pdf')"
   ]
  },
  {
   "cell_type": "code",
   "execution_count": null,
   "metadata": {},
   "outputs": [],
   "source": []
  }
 ],
 "metadata": {
  "kernelspec": {
   "display_name": "Python 3",
   "language": "python",
   "name": "python3"
  },
  "language_info": {
   "codemirror_mode": {
    "name": "ipython",
    "version": 3
   },
   "file_extension": ".py",
   "mimetype": "text/x-python",
   "name": "python",
   "nbconvert_exporter": "python",
   "pygments_lexer": "ipython3",
   "version": "3.6.9"
  }
 },
 "nbformat": 4,
 "nbformat_minor": 2
}

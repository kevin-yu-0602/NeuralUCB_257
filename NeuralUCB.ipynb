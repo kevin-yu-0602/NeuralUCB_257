{
 "cells": [
  {
   "cell_type": "code",
   "execution_count": 1,
   "metadata": {},
   "outputs": [
    {
     "data": {
      "text/html": [
       "<style>.container { width:95% !important; } </style>"
      ],
      "text/plain": [
       "<IPython.core.display.HTML object>"
      ]
     },
     "metadata": {},
     "output_type": "display_data"
    }
   ],
   "source": [
    "from IPython.core.display import HTML\n",
    "display(HTML('<style>.container { width:95% !important; } </style>'))\n",
    "\n",
    "%load_ext autoreload\n",
    "%autoreload 2"
   ]
  },
  {
   "cell_type": "code",
   "execution_count": 2,
   "metadata": {},
   "outputs": [],
   "source": [
    "import numpy as np\n",
    "import matplotlib.pyplot as plt\n",
    "import seaborn as sns\n",
    "from timeit import default_timer as timer\n",
    "from neural_exploration import *\n",
    "from statistics import mean, pstdev\n",
    "sns.set()"
   ]
  },
  {
   "cell_type": "markdown",
   "metadata": {},
   "source": [
    "### Bandit settings"
   ]
  },
  {
   "cell_type": "code",
   "execution_count": 3,
   "metadata": {},
   "outputs": [],
   "source": [
    "T = int(5e2)\n",
    "n_arms = 4\n",
    "n_features = 16\n",
    "noise_std = 0.1\n",
    "\n",
    "confidence_scaling_factor = noise_std\n",
    "\n",
    "n_sim = 2\n",
    "\n",
    "SEED = 42\n",
    "np.random.seed(SEED)"
   ]
  },
  {
   "cell_type": "markdown",
   "metadata": {},
   "source": [
    "### Neural network settings"
   ]
  },
  {
   "cell_type": "code",
   "execution_count": 4,
   "metadata": {},
   "outputs": [],
   "source": [
    "p = 0.2\n",
    "hidden_size = 64\n",
    "n_layers = 4\n",
    "epochs = 100\n",
    "train_every = 10\n",
    "confidence_scaling_factor = 1.0\n",
    "use_cuda = False"
   ]
  },
  {
   "cell_type": "code",
   "execution_count": 8,
   "metadata": {},
   "outputs": [
    {
     "name": "stderr",
     "output_type": "stream",
     "text": [
      "100%|██████████| 500/500 [09:55<00:00,  1.19s/it, total regret=642, % optimal arm=44.20%] \n",
      "100%|██████████| 500/500 [10:22<00:00,  1.25s/it, total regret=588, % optimal arm=48.20%] \n"
     ]
    }
   ],
   "source": [
    "### LINEAR REWARDS\n",
    "### mean reward function\n",
    "a = np.random.randn(n_features)\n",
    "a /= np.linalg.norm(a, ord=2)\n",
    "h = lambda x: 10*np.dot(a, x)\n",
    "bandit = ContextualBandit(T, n_arms, n_features, h, noise_std=noise_std, seed=SEED)\n",
    "\n",
    "# l_regrets = np.empty((n_sim, T))\n",
    "# atimes = []\n",
    "# for i in range(n_sim):\n",
    "#     bandit.reset_rewards()\n",
    "#     model = NeuralUCB(bandit,\n",
    "#                       hidden_size=hidden_size,\n",
    "#                       reg_factor=1.0,\n",
    "#                       delta=0.1,\n",
    "#                       confidence_scaling_factor=confidence_scaling_factor,\n",
    "#                       training_window=100,\n",
    "#                       p=p,\n",
    "#                       learning_rate=0.01,\n",
    "#                       epochs=epochs,\n",
    "#                       train_every=train_every,\n",
    "#                       n_layers=4,\n",
    "#                       use_cuda=use_cuda\n",
    "#                      )\n",
    "        \n",
    "#     start = timer()\n",
    "#     model.run()\n",
    "#     end = timer()\n",
    "#     atimes.append(end-start)\n",
    "#     l_regrets[i] = np.cumsum(model.regrets)\n",
    "\n",
    "l_regrets = np.empty((n_sim, T))\n",
    "btimes = []\n",
    "for i in range(n_sim):\n",
    "    bandit.reset_rewards()\n",
    "    model = NeuralUCB(bandit,\n",
    "                      hidden_size=hidden_size,\n",
    "                      reg_factor=1.0,\n",
    "                      delta=0.1,\n",
    "                      confidence_scaling_factor=confidence_scaling_factor,\n",
    "                      training_window=100,\n",
    "                      p=p,\n",
    "                      learning_rate=0.01,\n",
    "                      epochs=epochs,\n",
    "                      train_every=train_every,\n",
    "                      n_layers=4,\n",
    "                      use_cuda=use_cuda\n",
    "                     )\n",
    "        \n",
    "    start = timer()\n",
    "    model.run()\n",
    "    end = timer()\n",
    "    btimes.append(end-start)\n",
    "    l_regrets[i] = np.cumsum(model.regrets)"
   ]
  },
  {
   "cell_type": "code",
   "execution_count": 7,
   "metadata": {},
   "outputs": [
    {
     "data": {
      "text/plain": [
       "8.035329540492967"
      ]
     },
     "execution_count": 7,
     "metadata": {},
     "output_type": "execute_result"
    }
   ],
   "source": [
    "pstdev(btimes)"
   ]
  },
  {
   "cell_type": "code",
   "execution_count": null,
   "metadata": {},
   "outputs": [],
   "source": [
    "\n",
    "### QUADRATIC REWARDS\n",
    "### mean reward function\n",
    "a = np.random.randn(n_features)\n",
    "a /= np.linalg.norm(a, ord=2)\n",
    "h = lambda x: 100*np.dot(a, x)**2\n",
    "bandit = ContextualBandit(T, n_arms, n_features, h, noise_std=noise_std, seed=SEED)\n",
    "\n",
    "q_regrets = np.empty((n_sim, T))\n",
    "quadtimes =[]\n",
    "for i in range(n_sim):\n",
    "    bandit.reset_rewards()\n",
    "    model = NeuralUCB(bandit,\n",
    "                      hidden_size=hidden_size,\n",
    "                      reg_factor=1.0,\n",
    "                      delta=0.1,\n",
    "                      confidence_scaling_factor=confidence_scaling_factor,\n",
    "                      training_window=100,\n",
    "                      p=p,\n",
    "                      learning_rate=0.01,\n",
    "                      epochs=epochs,\n",
    "                      n_layers=n_layers,\n",
    "                      train_every=train_every,\n",
    "                      use_cuda=use_cuda,\n",
    "                     )\n",
    "    start = timer()\n",
    "    model.run()\n",
    "    end = timer()\n",
    "    quadtimes.append(end-start)\n",
    "    q_regrets[i] = np.cumsum(model.regrets)\n",
    "\n",
    "### COSINE REWARDS\n",
    "a = np.random.randn(n_features)\n",
    "a /= np.linalg.norm(a, ord=2)\n",
    "h = lambda x: np.cos(10*np.pi*np.dot(x, a))\n",
    "bandit = ContextualBandit(T, n_arms, n_features, h, noise_std=noise_std, seed=SEED)\n",
    "\n",
    "c_regrets = np.empty((n_sim, T))\n",
    "costimes = []\n",
    "for i in range(n_sim):\n",
    "    bandit.reset_rewards()\n",
    "    model = NeuralUCB(bandit,\n",
    "                      hidden_size=hidden_size,\n",
    "                      reg_factor=1.0,\n",
    "                      delta=0.1,\n",
    "                      confidence_scaling_factor=confidence_scaling_factor,\n",
    "                      training_window=100,\n",
    "                      p=p,\n",
    "                      learning_rate=0.01,\n",
    "                      n_layers=n_layers,\n",
    "                      epochs=epochs,\n",
    "                      train_every=train_every,\n",
    "                      use_cuda=use_cuda,\n",
    "                     )\n",
    "    start = timer()\n",
    "    model.run()\n",
    "    end = timer()\n",
    "    costimes.append(end-start)\n",
    "    c_regrets[i] = np.cumsum(model.regrets)"
   ]
  },
  {
   "cell_type": "code",
   "execution_count": 7,
   "metadata": {},
   "outputs": [
    {
     "data": {
      "image/png": "[encoded data removed]",
      "text/plain": [
       "<Figure size 792x288 with 1 Axes>"
      ]
     },
     "metadata": {},
     "output_type": "display_data"
    }
   ],
   "source": [
    "fig, ax = plt.subplots(figsize=(11, 4), nrows=1, ncols=1)\n",
    "\n",
    "t = np.arange(T)\n",
    "\n",
    "mean_lregrets = np.mean(l_regrets, axis=0)\n",
    "std_lregrets = np.std(l_regrets, axis=0) / np.sqrt(l_regrets.shape[0])\n",
    "ax.plot(t, mean_lregrets, label=\"Linear\")\n",
    "\n",
    "mean_qregrets = np.mean(q_regrets, axis=0)\n",
    "ax.plot(t, mean_qregrets, label=\"Quadratic\")\n",
    "\n",
    "mean_cregrets = np.mean(c_regrets, axis=0)\n",
    "ax.plot(t, mean_cregrets, label=\"Cosine\")\n",
    "\n",
    "mean_lregrets = np.mean(l_regrets, axis=0)\n",
    "std_lregrets = np.std(l_regrets, axis=0) / np.sqrt(l_regrets.shape[0])\n",
    "ax.plot(t, mean_l_regrets, label=\"Linear\")\n",
    "\n",
    "ax.set_title('Cumulative Regret')\n",
    "\n",
    "plt.tight_layout()\n",
    "plt.show()\n",
    "\n",
    "fig.savefig('figures/neural_ucb_linear.pdf')"
   ]
  },
  {
   "cell_type": "markdown",
   "metadata": {},
   "source": [
    "### NeuralUCB on quadratic rewards"
   ]
  },
  {
   "cell_type": "markdown",
   "metadata": {},
   "source": [
    "### Sublinear regret growth : the bandit problem is solved efficiently (even though the reward is nonlinear!)"
   ]
  },
  {
   "cell_type": "code",
   "execution_count": 10,
   "metadata": {},
   "outputs": [
    {
     "data": {
      "image/png": "[encoded data removed]",
      "text/plain": [
       "<Figure size 792x288 with 1 Axes>"
      ]
     },
     "metadata": {},
     "output_type": "display_data"
    }
   ],
   "source": [
    "fig, ax = plt.subplots(figsize=(11, 4), nrows=1, ncols=1)\n",
    "\n",
    "t = np.arange(T)\n",
    "\n",
    "mean_regrets = np.mean(regrets, axis=0)\n",
    "std_regrets = np.std(regrets, axis=0) / np.sqrt(regrets.shape[0])\n",
    "ax.plot(t, mean_regrets)\n",
    "ax.fill_between(t, mean_regrets - 2*std_regrets, mean_regrets + 2*std_regrets, alpha=0.15)\n",
    "    \n",
    "ax.set_title('Cumulative regret')\n",
    "\n",
    "plt.tight_layout()\n",
    "plt.show()\n",
    "\n",
    "fig.savefig('figures/neural_ucb_quad.pdf')"
   ]
  },
  {
   "cell_type": "markdown",
   "metadata": {},
   "source": [
    "### NeuralUCB on nonlinear rewards"
   ]
  },
  {
   "cell_type": "markdown",
   "metadata": {},
   "source": [
    "### Sublinear regret growth : the bandit problem is solved efficiently (even though the reward is nonlinear!)"
   ]
  },
  {
   "cell_type": "code",
   "execution_count": 13,
   "metadata": {},
   "outputs": [
    {
     "data": {
      "image/png": "[encoded data removed]",
      "text/plain": [
       "<Figure size 792x288 with 1 Axes>"
      ]
     },
     "metadata": {},
     "output_type": "display_data"
    }
   ],
   "source": [
    "fig, ax = plt.subplots(figsize=(11, 4), nrows=1, ncols=1)\n",
    "\n",
    "t = np.arange(T)\n",
    "\n",
    "mean_regrets = np.mean(regrets, axis=0)\n",
    "std_regrets = np.std(regrets, axis=0) / np.sqrt(regrets.shape[0])\n",
    "ax.plot(t, mean_regrets)\n",
    "ax.fill_between(t, mean_regrets - 2*std_regrets, mean_regrets + 2*std_regrets, alpha=0.15)\n",
    "    \n",
    "ax.set_title('Cumulative regret')\n",
    "\n",
    "plt.tight_layout()\n",
    "plt.show()\n",
    "\n",
    "fig.savefig('figures/neural_ucb_cosine.pdf')"
   ]
  },
  {
   "cell_type": "code",
   "execution_count": null,
   "metadata": {},
   "outputs": [],
   "source": []
  }
 ],
 "metadata": {
  "kernelspec": {
   "display_name": "Python 3",
   "language": "python",
   "name": "python3"
  },
  "language_info": {
   "codemirror_mode": {
    "name": "ipython",
    "version": 3
   },
   "file_extension": ".py",
   "mimetype": "text/x-python",
   "name": "python",
   "nbconvert_exporter": "python",
   "pygments_lexer": "ipython3",
   "version": "3.8.3"
  }
 },
 "nbformat": 4,
 "nbformat_minor": 2
}
